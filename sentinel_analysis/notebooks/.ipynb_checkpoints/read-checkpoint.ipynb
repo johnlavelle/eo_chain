{
 "cells": [
  {
   "cell_type": "code",
   "execution_count": 2,
   "metadata": {
    "pycharm": {
     "is_executing": false
    }
   },
   "outputs": [],
   "source": [
    "import numpy\n",
    "import netCDF4\n",
    "import satpy\n",
    "from trollsift import Parser\n",
    "import re"
   ]
  },
  {
   "cell_type": "markdown",
   "metadata": {},
   "source": [
    "MMM_OL_L_TTTTTT_yyyymmddThhmmss_YYYYMMDDTHHMMSS_YYYYMMDDTHHMMSS_[instance ID]_GGG_[class ID].SEN3"
   ]
  },
  {
   "cell_type": "code",
   "execution_count": null,
   "metadata": {
    "collapsed": false,
    "jupyter": {
     "outputs_hidden": false
    },
    "pycharm": {
     "name": "#%%\n"
    }
   },
   "outputs": [],
   "source": [
    "p = Parser(\"/data/sentinel3/jarek/S3/hrpt_{platform:4s}{platnum:2s}_{time:%Y%m%d_%H%M}_{orbit:05d}.l1b\")\n",
    "\n",
    "p = Parser(\"/data/sentinel3/jarek/S3/S3{platform:1w}{platnum:2s}_{time:%Y%m%d_%H%M}_{orbit:05d}.l1b\")\n",
    "\n",
    "{time:%Y%m%dT%H%M%S}"
   ]
  },
  {
   "cell_type": "code",
   "execution_count": 147,
   "metadata": {},
   "outputs": [
    {
     "data": {
      "text/plain": [
       "{'1satellite': 'S3',\n",
       " '2data_source': 'A',\n",
       " '3processing_level': 'OL',\n",
       " '4data_type_id': '1',\n",
       " '5start_time': 'EFR___',\n",
       " '6stop_time': '20190802T104728',\n",
       " '7creation_date': '20190802T105028',\n",
       " '8duration': '20190802T125729',\n",
       " '9cycle_number': '0179',\n",
       " '10relative_orbit_number': '047',\n",
       " '11tile_id': '322',\n",
       " '12frame_along_track_coordinate': '1980_MAR',\n",
       " '13tile_id': 'O',\n",
       " '14platform': 'NR',\n",
       " '15timeliness': '002',\n",
       " '16baseline_collection_or_data_usage': '.SEN3'}"
      ]
     },
     "execution_count": 147,
     "metadata": {},
     "output_type": "execute_result"
    }
   ],
   "source": [
    "fname = 'S3A_OL_1_EFR____20190802T104728_20190802T105028_20190802T125729_0179_047_322_1980_MAR_O_NR_002.SEN3'\n",
    "m = re.search('(S3)(A|B)_(OL)_(\\d)_(\\w{6})_(\\d{8}T\\d{6})_(\\d{8}T\\d{6})_(\\d{8}T\\d{6})_(\\d.*)_(\\d{3})_(\\d{3})_(1980_MAR)_(\\w)_(\\w{2})_(\\d{3})(.SEN3)', fname)\n",
    "names = ['satellite', 'data_source', 'processing_level', 'data_type_id', \n",
    " 'start_time', 'stop_time', 'creation_date', 'duration', 'cycle_number', 'relative_orbit_number', 'tile_id',\n",
    " 'frame_along_track_coordinate', 'tile_id', 'platform', 'timeliness', 'baseline_collection_or_data_usage']\n",
    "{str(i+1) + name: m.group(i + 1) for i, name in enumerate(names)}"
   ]
  },
  {
   "cell_type": "code",
   "execution_count": 148,
   "metadata": {},
   "outputs": [
    {
     "data": {
      "text/plain": [
       "['S3A',\n",
       " 'OL',\n",
       " '1',\n",
       " 'EFR',\n",
       " '20190802T104728',\n",
       " '20190802T105028',\n",
       " '20190802T125729',\n",
       " '0179',\n",
       " '047',\n",
       " '322',\n",
       " '1980',\n",
       " 'MAR',\n",
       " 'O',\n",
       " 'NR',\n",
       " '002']"
      ]
     },
     "execution_count": 148,
     "metadata": {},
     "output_type": "execute_result"
    }
   ],
   "source": [
    "names = ['satellite', 'data_source', 'processing_level', 'data_type_id', \n",
    " 'start_time', 'stop_time', 'creation_date', 'duration', 'cycle_number', \n",
    " 'relative_orbit_number', 'tile_id','frame_along_track_coordinate', \n",
    " 'tile_id', 'platform', 'timeliness', 'baseline_collection_or_data_usage']\n",
    "\n",
    "values = [n for n in fname.split('_') if n]\n",
    "values[-1] = values[-1].split('.')[0]\n",
    "values"
   ]
  },
  {
   "cell_type": "code",
   "execution_count": 149,
   "metadata": {},
   "outputs": [
    {
     "data": {
      "text/plain": [
       "(16, 15)"
      ]
     },
     "execution_count": 149,
     "metadata": {},
     "output_type": "execute_result"
    }
   ],
   "source": [
    "len(names), len(values)\n"
   ]
  },
  {
   "cell_type": "code",
   "execution_count": 111,
   "metadata": {},
   "outputs": [
    {
     "data": {
      "text/plain": [
       "{'satellite': 'S3',\n",
       " 'data_source': 'A',\n",
       " 'processing_level': '_',\n",
       " 'data_type_id': 'OL',\n",
       " 'start_time': '1',\n",
       " 'stop_time': 'EFR___',\n",
       " 'creation_date': '20190802T104728',\n",
       " 'duration': '20190802T105028',\n",
       " 'cycle_number': '20190802T125729',\n",
       " 'relative_orbit_number': '0179',\n",
       " 'tile_id': '1980_MAR',\n",
       " 'frame_along_track_coordinate': '322',\n",
       " 'platform': 'O',\n",
       " 'timeliness': 'NR',\n",
       " 'baseline_collection_or_data_usage': '002'}"
      ]
     },
     "execution_count": 111,
     "metadata": {},
     "output_type": "execute_result"
    }
   ],
   "source": [
    "{: m.group(i + 1) for i, name in enumerate(names)}"
   ]
  },
  {
   "cell_type": "code",
   "execution_count": null,
   "metadata": {},
   "outputs": [],
   "source": []
  }
 ],
 "metadata": {
  "kernelspec": {
   "display_name": "Python 3",
   "language": "python",
   "name": "python3"
  },
  "language_info": {
   "codemirror_mode": {
    "name": "ipython",
    "version": 3
   },
   "file_extension": ".py",
   "mimetype": "text/x-python",
   "name": "python",
   "nbconvert_exporter": "python",
   "pygments_lexer": "ipython3",
   "version": "3.7.6"
  },
  "pycharm": {
   "stem_cell": {
    "cell_type": "raw",
    "metadata": {
     "collapsed": false
    },
    "source": []
   }
  }
 },
 "nbformat": 4,
 "nbformat_minor": 4
}
