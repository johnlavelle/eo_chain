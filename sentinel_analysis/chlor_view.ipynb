{
 "cells": [
  {
   "cell_type": "code",
   "execution_count": null,
   "metadata": {
    "collapsed": true
   },
   "outputs": [],
   "source": [
    "import xarray as xr\n",
    "import numpy as np\n",
    "from glob import glob\n",
    "from os.path import join, exists\n",
    "import pylab as plt\n",
    "from cmocean import cm\n",
    "import cartopy\n",
    "import cartopy.feature as cfeature\n",
    "from pyresample import image, geometry\n",
    "from matplotlib.colors import Normalize\n",
    "import matplotlib\n",
    "from matplotlib import cm\n",
    "import copy\n",
    "import pandas as pd\n",
    "\n",
    "\n",
    "direc = '/home/jlavelle/s3/source/2020/08/01/'\n",
    "\n"
   ]
  }
 ],
 "metadata": {
  "kernelspec": {
   "display_name": "Python 3",
   "language": "python",
   "name": "python3"
  },
  "language_info": {
   "codemirror_mode": {
    "name": "ipython",
    "version": 2
   },
   "file_extension": ".py",
   "mimetype": "text/x-python",
   "name": "python",
   "nbconvert_exporter": "python",
   "pygments_lexer": "ipython2",
   "version": "2.7.6"
  }
 },
 "nbformat": 4,
 "nbformat_minor": 0
}